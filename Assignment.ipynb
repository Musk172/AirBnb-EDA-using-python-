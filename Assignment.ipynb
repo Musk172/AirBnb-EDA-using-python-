{
 "cells": [
  {
   "cell_type": "markdown",
   "id": "5b78965c",
   "metadata": {},
   "source": [
    "# Assignment on Airbnb listings"
   ]
  },
  {
   "cell_type": "markdown",
   "id": "1c6667fe",
   "metadata": {},
   "source": [
    "In this assignment I have analyse the data of airbnb hotel/rooms listed in New-york City or in simple words i have done EDA(Exploratory Data Analysis).\n",
    "* The goal of this assignment is to know the pattern and relation between the data that we are provided with and come up with   the best possible solution.\n",
    "* It will be best if we found reasion behind of our findings."
   ]
  },
  {
   "cell_type": "markdown",
   "id": "7b05e58c",
   "metadata": {},
   "source": [
    "## Assignment contents \n",
    "* [Data source](#Data-source/file)\n",
    "* [Importing Dataset](#Importing-dataset)\n",
    "* [Question 1](#Question-1.)\n",
    "* [Question 2](#Question-2.)\n",
    "* [Question 3](#Question-3.)\n",
    "* [Question 4](#Question-4.)\n",
    "* [**Bonus** - Final Report](#Final-Report)"
   ]
  },
  {
   "cell_type": "markdown",
   "id": "1b3c5a21",
   "metadata": {},
   "source": [
    "### Data source/file \n",
    "The data source is a open data source and it was collected from Kaggle. To know more about data source \n",
    "[Click hear](https://www.kaggle.com/).\n"
   ]
  },
  {
   "cell_type": "markdown",
   "id": "4fecbbdf",
   "metadata": {},
   "source": [
    "### Exploring dataset in MS excel\n",
    "I have found/downloaded dataset from the above link. After loading into excel I explordes the dataset in it because it is easy to manipulate some of the common task in excel.\n",
    "In Excel I did the following things \n",
    "  * Ckeck and remove the duplicates values \n",
    "  * Removed unnecessary columns/variables from table\n",
    "  * Did some simple manipulation such extracting year from date-time column \n",
    "  \n",
    "Note - Now data is clean and ready to do some analysis"
   ]
  },
  {
   "cell_type": "markdown",
   "id": "3e3645e1",
   "metadata": {},
   "source": [
    "#### Preview of Excel file "
   ]
  },
  {
   "cell_type": "markdown",
   "id": "a0f02540",
   "metadata": {},
   "source": [
    "<img src=\"a.png\" >"
   ]
  },
  {
   "cell_type": "markdown",
   "id": "a4d68664",
   "metadata": {},
   "source": [
    "### Importing Important libraries "
   ]
  },
  {
   "cell_type": "code",
   "execution_count": 4,
   "id": "6b446ce6",
   "metadata": {},
   "outputs": [],
   "source": [
    "import pandas as pd\n",
    "import numpy as np\n"
   ]
  },
  {
   "cell_type": "markdown",
   "id": "8c10f85d",
   "metadata": {},
   "source": [
    "### Importing dataset "
   ]
  },
  {
   "cell_type": "markdown",
   "id": "4d1f89bc",
   "metadata": {},
   "source": [
    " loading dataset for furthre analysis and to gain some usefull insights from the data"
   ]
  },
  {
   "cell_type": "code",
   "execution_count": 5,
   "id": "4d03a01e",
   "metadata": {},
   "outputs": [],
   "source": [
    "df = pd.read_csv(\"listings.csv\")"
   ]
  },
  {
   "cell_type": "markdown",
   "id": "e343801c",
   "metadata": {},
   "source": [
    "##### Viewing sample data"
   ]
  },
  {
   "cell_type": "markdown",
   "id": "4c269470",
   "metadata": {},
   "source": [
    "df.sample(n=10)"
   ]
  },
  {
   "cell_type": "markdown",
   "id": "a63defc6",
   "metadata": {},
   "source": [
    "It seems that still after cleaning and exploring dataset there are some errors. In this case we se that in the year column we have year 1900 which is not possible, so after exploring a bit more we found that there are some null values in (review_date) \n",
    "column.\n",
    "So the best possible course of action would be replace the nulll value with 0."
   ]
  },
  {
   "cell_type": "code",
   "execution_count": 50,
   "id": "b7ffd40b",
   "metadata": {},
   "outputs": [],
   "source": [
    "df[\"Year\"] = df[\"Year\"].replace(1900,0)\n",
    "# this will solve some of the problem"
   ]
  },
  {
   "cell_type": "code",
   "execution_count": 7,
   "id": "ee3bf800",
   "metadata": {
    "scrolled": true
   },
   "outputs": [
    {
     "data": {
      "text/html": [
       "<div>\n",
       "<style scoped>\n",
       "    .dataframe tbody tr th:only-of-type {\n",
       "        vertical-align: middle;\n",
       "    }\n",
       "\n",
       "    .dataframe tbody tr th {\n",
       "        vertical-align: top;\n",
       "    }\n",
       "\n",
       "    .dataframe thead th {\n",
       "        text-align: right;\n",
       "    }\n",
       "</style>\n",
       "<table border=\"1\" class=\"dataframe\">\n",
       "  <thead>\n",
       "    <tr style=\"text-align: right;\">\n",
       "      <th></th>\n",
       "      <th>id</th>\n",
       "      <th>Region</th>\n",
       "      <th>neighbourhood</th>\n",
       "      <th>latitude</th>\n",
       "      <th>longitude</th>\n",
       "      <th>room_type</th>\n",
       "      <th>price</th>\n",
       "      <th>minimum_nights</th>\n",
       "      <th>number_of_reviews</th>\n",
       "      <th>review_date</th>\n",
       "      <th>availability_365</th>\n",
       "      <th>Year</th>\n",
       "    </tr>\n",
       "  </thead>\n",
       "  <tbody>\n",
       "    <tr>\n",
       "      <th>1364</th>\n",
       "      <td>11723475</td>\n",
       "      <td>East Region</td>\n",
       "      <td>Bedok</td>\n",
       "      <td>1.32865</td>\n",
       "      <td>103.90691</td>\n",
       "      <td>Entire home/apt</td>\n",
       "      <td>149</td>\n",
       "      <td>90</td>\n",
       "      <td>9</td>\n",
       "      <td>20-04-2018</td>\n",
       "      <td>87</td>\n",
       "      <td>2018</td>\n",
       "    </tr>\n",
       "    <tr>\n",
       "      <th>648</th>\n",
       "      <td>7117201</td>\n",
       "      <td>Central Region</td>\n",
       "      <td>Kallang</td>\n",
       "      <td>1.32647</td>\n",
       "      <td>103.86453</td>\n",
       "      <td>Entire home/apt</td>\n",
       "      <td>200</td>\n",
       "      <td>90</td>\n",
       "      <td>0</td>\n",
       "      <td>NaN</td>\n",
       "      <td>358</td>\n",
       "      <td>0</td>\n",
       "    </tr>\n",
       "    <tr>\n",
       "      <th>5596</th>\n",
       "      <td>31178204</td>\n",
       "      <td>East Region</td>\n",
       "      <td>Bedok</td>\n",
       "      <td>1.30851</td>\n",
       "      <td>103.92457</td>\n",
       "      <td>Entire home/apt</td>\n",
       "      <td>168</td>\n",
       "      <td>4</td>\n",
       "      <td>3</td>\n",
       "      <td>14-05-2019</td>\n",
       "      <td>325</td>\n",
       "      <td>2019</td>\n",
       "    </tr>\n",
       "    <tr>\n",
       "      <th>782</th>\n",
       "      <td>7930891</td>\n",
       "      <td>Central Region</td>\n",
       "      <td>Geylang</td>\n",
       "      <td>1.31479</td>\n",
       "      <td>103.88627</td>\n",
       "      <td>Entire home/apt</td>\n",
       "      <td>94</td>\n",
       "      <td>1</td>\n",
       "      <td>24</td>\n",
       "      <td>28-07-2019</td>\n",
       "      <td>72</td>\n",
       "      <td>2019</td>\n",
       "    </tr>\n",
       "    <tr>\n",
       "      <th>4418</th>\n",
       "      <td>27239761</td>\n",
       "      <td>Central Region</td>\n",
       "      <td>Geylang</td>\n",
       "      <td>1.31188</td>\n",
       "      <td>103.87818</td>\n",
       "      <td>Entire home/apt</td>\n",
       "      <td>318</td>\n",
       "      <td>3</td>\n",
       "      <td>2</td>\n",
       "      <td>28-09-2018</td>\n",
       "      <td>362</td>\n",
       "      <td>2018</td>\n",
       "    </tr>\n",
       "    <tr>\n",
       "      <th>5482</th>\n",
       "      <td>30776617</td>\n",
       "      <td>Central Region</td>\n",
       "      <td>Kallang</td>\n",
       "      <td>1.31085</td>\n",
       "      <td>103.86205</td>\n",
       "      <td>Private room</td>\n",
       "      <td>44</td>\n",
       "      <td>18</td>\n",
       "      <td>0</td>\n",
       "      <td>NaN</td>\n",
       "      <td>344</td>\n",
       "      <td>0</td>\n",
       "    </tr>\n",
       "    <tr>\n",
       "      <th>4489</th>\n",
       "      <td>27616642</td>\n",
       "      <td>Central Region</td>\n",
       "      <td>Geylang</td>\n",
       "      <td>1.31273</td>\n",
       "      <td>103.88120</td>\n",
       "      <td>Entire home/apt</td>\n",
       "      <td>168</td>\n",
       "      <td>5</td>\n",
       "      <td>1</td>\n",
       "      <td>01-10-2018</td>\n",
       "      <td>321</td>\n",
       "      <td>2018</td>\n",
       "    </tr>\n",
       "    <tr>\n",
       "      <th>2439</th>\n",
       "      <td>17995515</td>\n",
       "      <td>Central Region</td>\n",
       "      <td>Marine Parade</td>\n",
       "      <td>1.30587</td>\n",
       "      <td>103.89885</td>\n",
       "      <td>Entire home/apt</td>\n",
       "      <td>269</td>\n",
       "      <td>3</td>\n",
       "      <td>71</td>\n",
       "      <td>02-08-2019</td>\n",
       "      <td>41</td>\n",
       "      <td>2019</td>\n",
       "    </tr>\n",
       "    <tr>\n",
       "      <th>3478</th>\n",
       "      <td>22586858</td>\n",
       "      <td>Central Region</td>\n",
       "      <td>Queenstown</td>\n",
       "      <td>1.28601</td>\n",
       "      <td>103.78580</td>\n",
       "      <td>Private room</td>\n",
       "      <td>67</td>\n",
       "      <td>60</td>\n",
       "      <td>0</td>\n",
       "      <td>NaN</td>\n",
       "      <td>365</td>\n",
       "      <td>0</td>\n",
       "    </tr>\n",
       "    <tr>\n",
       "      <th>4548</th>\n",
       "      <td>27810679</td>\n",
       "      <td>Central Region</td>\n",
       "      <td>Bukit Merah</td>\n",
       "      <td>1.26930</td>\n",
       "      <td>103.82509</td>\n",
       "      <td>Private room</td>\n",
       "      <td>106</td>\n",
       "      <td>2</td>\n",
       "      <td>24</td>\n",
       "      <td>15-08-2019</td>\n",
       "      <td>52</td>\n",
       "      <td>2019</td>\n",
       "    </tr>\n",
       "  </tbody>\n",
       "</table>\n",
       "</div>"
      ],
      "text/plain": [
       "            id         Region   neighbourhood  latitude  longitude  \\\n",
       "1364  11723475     East Region          Bedok   1.32865  103.90691   \n",
       "648    7117201  Central Region        Kallang   1.32647  103.86453   \n",
       "5596  31178204     East Region          Bedok   1.30851  103.92457   \n",
       "782    7930891  Central Region        Geylang   1.31479  103.88627   \n",
       "4418  27239761  Central Region        Geylang   1.31188  103.87818   \n",
       "5482  30776617  Central Region        Kallang   1.31085  103.86205   \n",
       "4489  27616642  Central Region        Geylang   1.31273  103.88120   \n",
       "2439  17995515  Central Region  Marine Parade   1.30587  103.89885   \n",
       "3478  22586858  Central Region     Queenstown   1.28601  103.78580   \n",
       "4548  27810679  Central Region    Bukit Merah   1.26930  103.82509   \n",
       "\n",
       "            room_type  price  minimum_nights  number_of_reviews review_date  \\\n",
       "1364  Entire home/apt    149              90                  9  20-04-2018   \n",
       "648   Entire home/apt    200              90                  0         NaN   \n",
       "5596  Entire home/apt    168               4                  3  14-05-2019   \n",
       "782   Entire home/apt     94               1                 24  28-07-2019   \n",
       "4418  Entire home/apt    318               3                  2  28-09-2018   \n",
       "5482     Private room     44              18                  0         NaN   \n",
       "4489  Entire home/apt    168               5                  1  01-10-2018   \n",
       "2439  Entire home/apt    269               3                 71  02-08-2019   \n",
       "3478     Private room     67              60                  0         NaN   \n",
       "4548     Private room    106               2                 24  15-08-2019   \n",
       "\n",
       "      availability_365  Year  \n",
       "1364                87  2018  \n",
       "648                358     0  \n",
       "5596               325  2019  \n",
       "782                 72  2019  \n",
       "4418               362  2018  \n",
       "5482               344     0  \n",
       "4489               321  2018  \n",
       "2439                41  2019  \n",
       "3478               365     0  \n",
       "4548                52  2019  "
      ]
     },
     "execution_count": 7,
     "metadata": {},
     "output_type": "execute_result"
    }
   ],
   "source": [
    "df.sample(n=10)"
   ]
  },
  {
   "cell_type": "code",
   "execution_count": 24,
   "id": "a043e0cb",
   "metadata": {},
   "outputs": [
    {
     "data": {
      "text/plain": [
       "(7907, 12)"
      ]
     },
     "execution_count": 24,
     "metadata": {},
     "output_type": "execute_result"
    }
   ],
   "source": [
    "df.shape"
   ]
  },
  {
   "cell_type": "code",
   "execution_count": 28,
   "id": "77273bfc",
   "metadata": {},
   "outputs": [
    {
     "name": "stdout",
     "output_type": "stream",
     "text": [
      "<class 'pandas.core.frame.DataFrame'>\n",
      "RangeIndex: 7907 entries, 0 to 7906\n",
      "Data columns (total 12 columns):\n",
      " #   Column             Non-Null Count  Dtype  \n",
      "---  ------             --------------  -----  \n",
      " 0   id                 7907 non-null   int64  \n",
      " 1   Region             7907 non-null   object \n",
      " 2   neighbourhood      7907 non-null   object \n",
      " 3   latitude           7907 non-null   float64\n",
      " 4   longitude          7907 non-null   float64\n",
      " 5   room_type          7907 non-null   object \n",
      " 6   price              7907 non-null   int64  \n",
      " 7   minimum_nights     7907 non-null   int64  \n",
      " 8   number_of_reviews  7907 non-null   int64  \n",
      " 9   review_date        5149 non-null   object \n",
      " 10  availability_365   7907 non-null   int64  \n",
      " 11  Year               7907 non-null   int64  \n",
      "dtypes: float64(2), int64(6), object(4)\n",
      "memory usage: 741.4+ KB\n"
     ]
    }
   ],
   "source": [
    "df.info()"
   ]
  },
  {
   "cell_type": "markdown",
   "id": "c4f0334d",
   "metadata": {},
   "source": [
    "### Question 1.\n",
    "#### What is the persentage and total number of Airbnb hosts in each region of NYC state?"
   ]
  },
  {
   "cell_type": "markdown",
   "id": "265188c4",
   "metadata": {},
   "source": [
    "The solution for this is pretty straight forward sum the hosts in every region this can be done with groupby function.  "
   ]
  },
  {
   "cell_type": "code",
   "execution_count": 57,
   "id": "8ba0dbea",
   "metadata": {},
   "outputs": [
    {
     "name": "stdout",
     "output_type": "stream",
     "text": [
      "['id', 'Region ', 'neighbourhood', 'latitude', 'longitude', 'room_type', 'price', 'minimum_nights', 'number_of_reviews', 'review_date', 'availability_365', 'Year']\n"
     ]
    }
   ],
   "source": [
    "print(df.columns.tolist())"
   ]
  },
  {
   "cell_type": "code",
   "execution_count": 8,
   "id": "a88394d6",
   "metadata": {
    "scrolled": true
   },
   "outputs": [
    {
     "data": {
      "text/plain": [
       "Region \n",
       "Central Region       6309\n",
       "East Region           508\n",
       "North Region          204\n",
       "North-East Region     346\n",
       "West Region           540\n",
       "Name: count, dtype: int64"
      ]
     },
     "execution_count": 8,
     "metadata": {},
     "output_type": "execute_result"
    }
   ],
   "source": [
    "gp = df.groupby(by=[\"Region \"])[\"id\"].count().rename(\"count\")\n",
    "gp"
   ]
  },
  {
   "cell_type": "code",
   "execution_count": 61,
   "id": "1ec332e8",
   "metadata": {},
   "outputs": [],
   "source": [
    "gp.to_csv('region')"
   ]
  },
  {
   "cell_type": "markdown",
   "id": "caf6547d",
   "metadata": {},
   "source": [
    "Here we clearly see that central region of NYC has most number of hosts.\n",
    "Furthermor we see that host of Central region is more than the sum of others region, so I conclude that central region is most populated or visited region. "
   ]
  },
  {
   "cell_type": "markdown",
   "id": "26b205fc",
   "metadata": {},
   "source": [
    "### Question 2.\n",
    "#### What is the prefered choice of people regarding Room-Type and what is the average price of each room?"
   ]
  },
  {
   "cell_type": "code",
   "execution_count": 15,
   "id": "7fc0abcf",
   "metadata": {},
   "outputs": [
    {
     "name": "stdout",
     "output_type": "stream",
     "text": [
      "         room_type  count  mean_price\n",
      "0  Entire home/apt   4132  226.998306\n",
      "1     Private room   3381  110.938480\n",
      "2      Shared room    394   65.675127\n"
     ]
    }
   ],
   "source": [
    "room_price = df.groupby('room_type') \\\n",
    ".agg({'id':'size', 'price':'mean'}) \\\n",
    ".rename(columns={'id':'count','price':'mean_price'})\\\n",
    ".reset_index()\n",
    "print(room_price)"
   ]
  },
  {
   "cell_type": "code",
   "execution_count": 6,
   "id": "5d628a7c",
   "metadata": {},
   "outputs": [
    {
     "name": "stdout",
     "output_type": "stream",
     "text": [
      "         room_type  count  minimun nights\n",
      "0  Entire home/apt   4132            15.0\n",
      "1     Private room   3381            22.0\n",
      "2      Shared room    394             4.0\n"
     ]
    }
   ],
   "source": [
    "room_nights = df.groupby('room_type') \\\n",
    ".agg({'id':'size', 'minimum_nights':'mean','minimum_nights':'mean' }).round() \\\n",
    ".rename(columns={'id':'count','minimum_nights':'No. of nights','minimum_nights':'average nights'})\\\n",
    ".reset_index()\n",
    "print(room_nights)"
   ]
  },
  {
   "cell_type": "code",
   "execution_count": 64,
   "id": "bd5f7309",
   "metadata": {},
   "outputs": [
    {
     "data": {
      "text/html": [
       "<div>\n",
       "<style scoped>\n",
       "    .dataframe tbody tr th:only-of-type {\n",
       "        vertical-align: middle;\n",
       "    }\n",
       "\n",
       "    .dataframe tbody tr th {\n",
       "        vertical-align: top;\n",
       "    }\n",
       "\n",
       "    .dataframe thead th {\n",
       "        text-align: right;\n",
       "    }\n",
       "</style>\n",
       "<table border=\"1\" class=\"dataframe\">\n",
       "  <thead>\n",
       "    <tr style=\"text-align: right;\">\n",
       "      <th></th>\n",
       "      <th>room_type</th>\n",
       "      <th>count</th>\n",
       "      <th>minimun nights</th>\n",
       "      <th>mean_price</th>\n",
       "    </tr>\n",
       "  </thead>\n",
       "  <tbody>\n",
       "    <tr>\n",
       "      <th>0</th>\n",
       "      <td>Entire home/apt</td>\n",
       "      <td>4132</td>\n",
       "      <td>15.0</td>\n",
       "      <td>226.998306</td>\n",
       "    </tr>\n",
       "    <tr>\n",
       "      <th>1</th>\n",
       "      <td>Private room</td>\n",
       "      <td>3381</td>\n",
       "      <td>22.0</td>\n",
       "      <td>110.938480</td>\n",
       "    </tr>\n",
       "    <tr>\n",
       "      <th>2</th>\n",
       "      <td>Shared room</td>\n",
       "      <td>394</td>\n",
       "      <td>4.0</td>\n",
       "      <td>65.675127</td>\n",
       "    </tr>\n",
       "  </tbody>\n",
       "</table>\n",
       "</div>"
      ],
      "text/plain": [
       "         room_type  count  minimun nights  mean_price\n",
       "0  Entire home/apt   4132            15.0  226.998306\n",
       "1     Private room   3381            22.0  110.938480\n",
       "2      Shared room    394             4.0   65.675127"
      ]
     },
     "execution_count": 64,
     "metadata": {},
     "output_type": "execute_result"
    }
   ],
   "source": [
    "mg = room_nights.merge(room_price,on = [\"count\",\"room_type\"])\n",
    "mg"
   ]
  },
  {
   "cell_type": "code",
   "execution_count": 63,
   "id": "6e3cecf4",
   "metadata": {},
   "outputs": [],
   "source": [
    "mg.to_csv('room and night ')"
   ]
  },
  {
   "cell_type": "markdown",
   "id": "4ee05c7a",
   "metadata": {},
   "source": [
    "#### Graph representig above question."
   ]
  },
  {
   "cell_type": "markdown",
   "id": "b3e93ca2",
   "metadata": {},
   "source": [
    "<img src=\"visualization/Price and m_nig.png\" width=\"500\" height=\"700\" align = \"left\">"
   ]
  },
  {
   "cell_type": "markdown",
   "id": "c54f13ad",
   "metadata": {},
   "source": [
    "It seems that most prefered room-type is **Apartment** with highest **price** but the average number of night required is for **Private rooms**."
   ]
  },
  {
   "cell_type": "markdown",
   "id": "4660b51e",
   "metadata": {},
   "source": [
    "### Question 3.\n",
    "#### How many host are there in each region and what is their average reviews of the each room-type?"
   ]
  },
  {
   "cell_type": "code",
   "execution_count": 25,
   "id": "1242ffe2",
   "metadata": {},
   "outputs": [
    {
     "name": "stdout",
     "output_type": "stream",
     "text": [
      "['id', 'Region ', 'neighbourhood', 'latitude', 'longitude', 'room_type', 'price', 'minimum_nights', 'number_of_reviews', 'review_date', 'availability_365', 'Year']\n"
     ]
    }
   ],
   "source": [
    "print(df.columns.tolist())"
   ]
  },
  {
   "cell_type": "code",
   "execution_count": 33,
   "id": "6cd579a5",
   "metadata": {
    "scrolled": true
   },
   "outputs": [
    {
     "name": "stdout",
     "output_type": "stream",
     "text": [
      "          room_type            Region   count  number_of_reviews\n",
      "0   Entire home/apt     Central Region   3738              46298\n",
      "1   Entire home/apt        East Region    131               2387\n",
      "2   Entire home/apt       North Region     53                306\n",
      "3   Entire home/apt  North-East Region     64                608\n",
      "4   Entire home/apt        West Region    146                744\n",
      "5      Private room     Central Region   2223              31116\n",
      "6      Private room        East Region    366               7166\n",
      "7      Private room       North Region    142               1600\n",
      "8      Private room  North-East Region    272               3537\n",
      "9      Private room        West Region    378               2596\n",
      "10      Shared room     Central Region    348               4841\n",
      "11      Shared room        East Region     11                  9\n",
      "12      Shared room       North Region      9                  4\n",
      "13      Shared room  North-East Region     10                 12\n",
      "14      Shared room        West Region     16                 44\n"
     ]
    }
   ],
   "source": [
    "host_per_region = df.groupby(['room_type','Region ']) \\\n",
    ".agg({'id':'size', 'number_of_reviews':'sum'}).round() \\\n",
    ".rename(columns={'id':'count'})\\\n",
    ".reset_index()\n",
    "print(host_per_region)"
   ]
  },
  {
   "cell_type": "code",
   "execution_count": 30,
   "id": "2a845ff6",
   "metadata": {},
   "outputs": [],
   "source": [
    "host_per_region.to_csv(\"host_per_region\")"
   ]
  },
  {
   "cell_type": "markdown",
   "id": "7c5df9ed",
   "metadata": {},
   "source": [
    "#### Graph representig above question."
   ]
  },
  {
   "cell_type": "markdown",
   "id": "a058f5db",
   "metadata": {},
   "source": [
    "<img src=\"visualization/region.png\" width=\"500\" height=\"700\" align = \"left\">"
   ]
  },
  {
   "cell_type": "markdown",
   "id": "763ff16b",
   "metadata": {},
   "source": [
    "This date seems little difficult to understand but we can get the better view of this table if it's in graph.\n",
    "So I write this table to_csv and visualize it in BI tool(MS PowerBi)."
   ]
  },
  {
   "cell_type": "markdown",
   "id": "27c506b6",
   "metadata": {},
   "source": [
    "### Question 4.\n",
    "#### What is the rate of host per year and what is the avability of the rooms?"
   ]
  },
  {
   "cell_type": "code",
   "execution_count": 65,
   "id": "4e981706",
   "metadata": {
    "scrolled": true
   },
   "outputs": [],
   "source": [
    "Year_data  = df.groupby(['room_type','Year']) \\\n",
    ".agg({'id':'size', 'availability_365':'mean'}).round() \\\n",
    ".rename(columns={'id':'count','availability_365':'Avg_availability_rate'})\\\n",
    ".reset_index()\n"
   ]
  },
  {
   "cell_type": "code",
   "execution_count": 41,
   "id": "d2601c19",
   "metadata": {
    "scrolled": true
   },
   "outputs": [
    {
     "data": {
      "text/html": [
       "<div>\n",
       "<style scoped>\n",
       "    .dataframe tbody tr th:only-of-type {\n",
       "        vertical-align: middle;\n",
       "    }\n",
       "\n",
       "    .dataframe tbody tr th {\n",
       "        vertical-align: top;\n",
       "    }\n",
       "\n",
       "    .dataframe thead th {\n",
       "        text-align: right;\n",
       "    }\n",
       "</style>\n",
       "<table border=\"1\" class=\"dataframe\">\n",
       "  <thead>\n",
       "    <tr style=\"text-align: right;\">\n",
       "      <th></th>\n",
       "      <th>room_type</th>\n",
       "      <th>Year</th>\n",
       "      <th>count</th>\n",
       "      <th>Avg_availability_rate</th>\n",
       "    </tr>\n",
       "  </thead>\n",
       "  <tbody>\n",
       "    <tr>\n",
       "      <th>1</th>\n",
       "      <td>Entire home/apt</td>\n",
       "      <td>2014</td>\n",
       "      <td>3</td>\n",
       "      <td>0.0</td>\n",
       "    </tr>\n",
       "    <tr>\n",
       "      <th>2</th>\n",
       "      <td>Entire home/apt</td>\n",
       "      <td>2015</td>\n",
       "      <td>21</td>\n",
       "      <td>66.0</td>\n",
       "    </tr>\n",
       "    <tr>\n",
       "      <th>3</th>\n",
       "      <td>Entire home/apt</td>\n",
       "      <td>2016</td>\n",
       "      <td>90</td>\n",
       "      <td>69.0</td>\n",
       "    </tr>\n",
       "    <tr>\n",
       "      <th>4</th>\n",
       "      <td>Entire home/apt</td>\n",
       "      <td>2017</td>\n",
       "      <td>139</td>\n",
       "      <td>112.0</td>\n",
       "    </tr>\n",
       "    <tr>\n",
       "      <th>5</th>\n",
       "      <td>Entire home/apt</td>\n",
       "      <td>2018</td>\n",
       "      <td>316</td>\n",
       "      <td>190.0</td>\n",
       "    </tr>\n",
       "    <tr>\n",
       "      <th>6</th>\n",
       "      <td>Entire home/apt</td>\n",
       "      <td>2019</td>\n",
       "      <td>2074</td>\n",
       "      <td>205.0</td>\n",
       "    </tr>\n",
       "    <tr>\n",
       "      <th>8</th>\n",
       "      <td>Private room</td>\n",
       "      <td>2013</td>\n",
       "      <td>1</td>\n",
       "      <td>365.0</td>\n",
       "    </tr>\n",
       "    <tr>\n",
       "      <th>9</th>\n",
       "      <td>Private room</td>\n",
       "      <td>2014</td>\n",
       "      <td>6</td>\n",
       "      <td>332.0</td>\n",
       "    </tr>\n",
       "    <tr>\n",
       "      <th>10</th>\n",
       "      <td>Private room</td>\n",
       "      <td>2015</td>\n",
       "      <td>47</td>\n",
       "      <td>101.0</td>\n",
       "    </tr>\n",
       "    <tr>\n",
       "      <th>11</th>\n",
       "      <td>Private room</td>\n",
       "      <td>2016</td>\n",
       "      <td>129</td>\n",
       "      <td>164.0</td>\n",
       "    </tr>\n",
       "    <tr>\n",
       "      <th>12</th>\n",
       "      <td>Private room</td>\n",
       "      <td>2017</td>\n",
       "      <td>209</td>\n",
       "      <td>158.0</td>\n",
       "    </tr>\n",
       "    <tr>\n",
       "      <th>13</th>\n",
       "      <td>Private room</td>\n",
       "      <td>2018</td>\n",
       "      <td>371</td>\n",
       "      <td>205.0</td>\n",
       "    </tr>\n",
       "    <tr>\n",
       "      <th>14</th>\n",
       "      <td>Private room</td>\n",
       "      <td>2019</td>\n",
       "      <td>1466</td>\n",
       "      <td>211.0</td>\n",
       "    </tr>\n",
       "    <tr>\n",
       "      <th>16</th>\n",
       "      <td>Shared room</td>\n",
       "      <td>2015</td>\n",
       "      <td>5</td>\n",
       "      <td>146.0</td>\n",
       "    </tr>\n",
       "    <tr>\n",
       "      <th>17</th>\n",
       "      <td>Shared room</td>\n",
       "      <td>2016</td>\n",
       "      <td>4</td>\n",
       "      <td>167.0</td>\n",
       "    </tr>\n",
       "    <tr>\n",
       "      <th>18</th>\n",
       "      <td>Shared room</td>\n",
       "      <td>2017</td>\n",
       "      <td>19</td>\n",
       "      <td>274.0</td>\n",
       "    </tr>\n",
       "    <tr>\n",
       "      <th>19</th>\n",
       "      <td>Shared room</td>\n",
       "      <td>2018</td>\n",
       "      <td>60</td>\n",
       "      <td>294.0</td>\n",
       "    </tr>\n",
       "    <tr>\n",
       "      <th>20</th>\n",
       "      <td>Shared room</td>\n",
       "      <td>2019</td>\n",
       "      <td>189</td>\n",
       "      <td>297.0</td>\n",
       "    </tr>\n",
       "  </tbody>\n",
       "</table>\n",
       "</div>"
      ],
      "text/plain": [
       "          room_type  Year  count  Avg_availability_rate\n",
       "1   Entire home/apt  2014      3                    0.0\n",
       "2   Entire home/apt  2015     21                   66.0\n",
       "3   Entire home/apt  2016     90                   69.0\n",
       "4   Entire home/apt  2017    139                  112.0\n",
       "5   Entire home/apt  2018    316                  190.0\n",
       "6   Entire home/apt  2019   2074                  205.0\n",
       "8      Private room  2013      1                  365.0\n",
       "9      Private room  2014      6                  332.0\n",
       "10     Private room  2015     47                  101.0\n",
       "11     Private room  2016    129                  164.0\n",
       "12     Private room  2017    209                  158.0\n",
       "13     Private room  2018    371                  205.0\n",
       "14     Private room  2019   1466                  211.0\n",
       "16      Shared room  2015      5                  146.0\n",
       "17      Shared room  2016      4                  167.0\n",
       "18      Shared room  2017     19                  274.0\n",
       "19      Shared room  2018     60                  294.0\n",
       "20      Shared room  2019    189                  297.0"
      ]
     },
     "execution_count": 41,
     "metadata": {},
     "output_type": "execute_result"
    }
   ],
   "source": [
    "Year_data.drop(Year_data[(Year_data[\"Year\"]==1900)].index,inplace = True)\n",
    "Year_data"
   ]
  },
  {
   "cell_type": "markdown",
   "id": "463d01d1",
   "metadata": {},
   "source": [
    "<img src=\"visualization/Year a& count.png\" width=\"500\" height=\"700\" align = \"left\">"
   ]
  },
  {
   "cell_type": "code",
   "execution_count": 46,
   "id": "de6f3732",
   "metadata": {},
   "outputs": [
    {
     "data": {
      "text/html": [
       "<div>\n",
       "<style scoped>\n",
       "    .dataframe tbody tr th:only-of-type {\n",
       "        vertical-align: middle;\n",
       "    }\n",
       "\n",
       "    .dataframe tbody tr th {\n",
       "        vertical-align: top;\n",
       "    }\n",
       "\n",
       "    .dataframe thead th {\n",
       "        text-align: right;\n",
       "    }\n",
       "</style>\n",
       "<table border=\"1\" class=\"dataframe\">\n",
       "  <thead>\n",
       "    <tr style=\"text-align: right;\">\n",
       "      <th></th>\n",
       "      <th>Year</th>\n",
       "      <th>count</th>\n",
       "      <th>hosts_pct_change</th>\n",
       "    </tr>\n",
       "  </thead>\n",
       "  <tbody>\n",
       "    <tr>\n",
       "      <th>1</th>\n",
       "      <td>2013</td>\n",
       "      <td>1</td>\n",
       "      <td>NaN</td>\n",
       "    </tr>\n",
       "    <tr>\n",
       "      <th>2</th>\n",
       "      <td>2014</td>\n",
       "      <td>9</td>\n",
       "      <td>8.000000</td>\n",
       "    </tr>\n",
       "    <tr>\n",
       "      <th>3</th>\n",
       "      <td>2015</td>\n",
       "      <td>73</td>\n",
       "      <td>7.111111</td>\n",
       "    </tr>\n",
       "    <tr>\n",
       "      <th>4</th>\n",
       "      <td>2016</td>\n",
       "      <td>223</td>\n",
       "      <td>2.054795</td>\n",
       "    </tr>\n",
       "    <tr>\n",
       "      <th>5</th>\n",
       "      <td>2017</td>\n",
       "      <td>367</td>\n",
       "      <td>0.645740</td>\n",
       "    </tr>\n",
       "    <tr>\n",
       "      <th>6</th>\n",
       "      <td>2018</td>\n",
       "      <td>747</td>\n",
       "      <td>1.035422</td>\n",
       "    </tr>\n",
       "    <tr>\n",
       "      <th>7</th>\n",
       "      <td>2019</td>\n",
       "      <td>3729</td>\n",
       "      <td>3.991968</td>\n",
       "    </tr>\n",
       "  </tbody>\n",
       "</table>\n",
       "</div>"
      ],
      "text/plain": [
       "   Year  count  hosts_pct_change\n",
       "1  2013      1               NaN\n",
       "2  2014      9          8.000000\n",
       "3  2015     73          7.111111\n",
       "4  2016    223          2.054795\n",
       "5  2017    367          0.645740\n",
       "6  2018    747          1.035422\n",
       "7  2019   3729          3.991968"
      ]
     },
     "execution_count": 46,
     "metadata": {},
     "output_type": "execute_result"
    }
   ],
   "source": [
    "Year_rate = df.groupby('Year') \\\n",
    ".agg({'id':'size'})\\\n",
    ".rename(columns={'id':'count'})\\\n",
    ".reset_index()\n",
    "Year_rate.drop(Year_rate[(Year_rate[\"Year\"]==1900)].index,inplace = True)\n",
    "Year_rate['hosts_pct_change'] = Year_rate['count'].pct_change()\n",
    "Year_rate"
   ]
  },
  {
   "cell_type": "code",
   "execution_count": 47,
   "id": "5e1daccb",
   "metadata": {},
   "outputs": [],
   "source": [
    "Year_data.to_csv(\"year data\")\n",
    "Year_rate.to_csv(\"year ratr\")"
   ]
  },
  {
   "cell_type": "markdown",
   "id": "bb88a656",
   "metadata": {},
   "source": [
    "<img src=\"visualization/% change.png\" width=\"500\" height=\"700\" align = \"left\">"
   ]
  },
  {
   "cell_type": "markdown",
   "id": "2e205fa8",
   "metadata": {},
   "source": [
    "### Final Report\n",
    "#### This is the final report that is made using BI tool (Microsoft PowerBi), For more info about this dashboard check the **pbix** file\"Note: this file will open in Ms PowerBi\". "
   ]
  },
  {
   "cell_type": "markdown",
   "id": "984639a6",
   "metadata": {},
   "source": [
    "This dashboard is very simple to understand and informative, it gives perfect answers to some simple questions and if we use it in PowerBi it will make more sence."
   ]
  },
  {
   "cell_type": "markdown",
   "id": "556dfa5d",
   "metadata": {},
   "source": [
    "<img src=\"visualization/report.png\">"
   ]
  }
 ],
 "metadata": {
  "kernelspec": {
   "display_name": "Python 3 (ipykernel)",
   "language": "python",
   "name": "python3"
  },
  "language_info": {
   "codemirror_mode": {
    "name": "ipython",
    "version": 3
   },
   "file_extension": ".py",
   "mimetype": "text/x-python",
   "name": "python",
   "nbconvert_exporter": "python",
   "pygments_lexer": "ipython3",
   "version": "3.10.7"
  },
  "vscode": {
   "interpreter": {
    "hash": "0e1cc6ba68ed47b65dfcad01b441dfa4b43ba1837ae10a3cc12a953fff22ccdf"
   }
  }
 },
 "nbformat": 4,
 "nbformat_minor": 5
}
